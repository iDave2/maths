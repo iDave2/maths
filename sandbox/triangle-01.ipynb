{
 "cells": [
  {
   "cell_type": "markdown",
   "metadata": {},
   "source": [
    "This program generates a triangle used at front of Geometry book review.  It includes centroid with medians and unit vectors for label placement."
   ]
  },
  {
   "cell_type": "code",
   "execution_count": null,
   "metadata": {},
   "outputs": [],
   "source": [
    "%matplotlib inline\n",
    "import numpy as np\n",
    "import matplotlib.pyplot as plt"
   ]
  },
  {
   "cell_type": "code",
   "execution_count": null,
   "metadata": {},
   "outputs": [],
   "source": [
    "#- Choose some vertices.\n",
    "A = [6.0, 5.0]; B = [0.0, 0.0]; C = [10.0, 0.0]\n",
    "L = ['A', 'B', 'C']  #- Labels.\n",
    "\n",
    "#- Draw the triangle.\n",
    "tri = np.array([A, B, C, A])  #- Points.\n",
    "plt.plot(tri[:,0], tri[:,1])\n",
    "tri = tri[:-1]  # Pop extra A from end.\n",
    "\n",
    "#- Locate and mark mean center (aka centroid).\n",
    "mc = np.add(A, np.add(B, C)) / 3\n",
    "plt.plot(mc[0], mc[1], 'ro')\n",
    "\n",
    "#- Draw medians for comparison.\n",
    "from math import sqrt\n",
    "sb = []  #- Remember medians (vertex -> segment midpoint),\n",
    "uv = []  #- and their unit vectors [dx, dy]\n",
    "for i in range(3):\n",
    "    p1, p2, p3 = tri[i % 3], tri[(i + 1) % 3], tri[(i + 2) % 3]\n",
    "    mp = np.add(p2, p3) / 2  #- Midpoint of side opposite p1.\n",
    "    dx, dy = mp[0] - p1[0], mp[1] - p1[1]\n",
    "    length = sqrt(dx**2 + dy**2)\n",
    "    uv.append(np.array([dx/length, dy/length]))  #- Unit from p1 to mp.\n",
    "    sb.append(np.array([p1, mp]))  #- Median p1 -> mp.\n",
    "    plt.plot(sb[i][:,0], sb[i][:,1], 'g:')\n",
    "#-print(uv)\n",
    "\n",
    "#- Draw unit vectors for sanity check.\n",
    "p = sb[2][1] + 2 * uv[2]  #- Pick an upper left open area for display.\n",
    "plt.plot(p[0], p[1], 'ro')\n",
    "for i in range(3):\n",
    "    plt.arrow(p[0], p[1], uv[i][0], uv[i][1], \\\n",
    "              width=.02, head_width=.1, length_includes_head=True)\n",
    "\n",
    "#- Label triangle. pyplot.text might suffice but does not include the \n",
    "#- alignment options of pyplot.annotate.  So we use annotate() even \n",
    "#- though we don't need a text box with arrow pointing at something.\n",
    "for i in range(3):\n",
    "    atx, aty = tri[i][0], tri[i][1]  #- Arrow tip location.\n",
    "    dt = -0.4 * uv[i]  #- Unit vectors point In; move labels Out.\n",
    "    tx, ty = tri[i][0] + dt[0], tri[i][1] + dt[1]  #- Text location.\n",
    "    plt.annotate(L[i], xy=(atx, aty), xytext=(tx, ty), size=20, va=\"center\", ha=\"center\")\n",
    "\n",
    "plt.axis('off')  #- Hide axes to emphasize \"synthetic\" proofs.\n",
    "plt.show()       #- Display artwork."
   ]
  },
  {
   "cell_type": "code",
   "execution_count": null,
   "metadata": {},
   "outputs": [],
   "source": [
    "#- For centering plots, this is borrowed from the lovely creation of\n",
    "#- Cameron Davidson-Pilon at https://stackoverflow.com/questions/18380168.\n",
    "from IPython.core.display import HTML\n",
    "HTML(\"\"\"\n",
    "<style>\n",
    ".output_png {\n",
    "    display: table-cell;\n",
    "    text-align: center;\n",
    "    vertical-align: middle;\n",
    "}\n",
    "</style>\n",
    "\"\"\")"
   ]
  }
 ],
 "metadata": {
  "kernelspec": {
   "display_name": "Python 3",
   "language": "python",
   "name": "python3"
  },
  "language_info": {
   "codemirror_mode": {
    "name": "ipython",
    "version": 3
   },
   "file_extension": ".py",
   "mimetype": "text/x-python",
   "name": "python",
   "nbconvert_exporter": "python",
   "pygments_lexer": "ipython3",
   "version": "3.6.5"
  }
 },
 "nbformat": 4,
 "nbformat_minor": 2
}
