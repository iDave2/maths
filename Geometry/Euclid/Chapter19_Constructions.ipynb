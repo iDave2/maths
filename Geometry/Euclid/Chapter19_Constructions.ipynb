{
 "cells": [
  {
   "cell_type": "markdown",
   "metadata": {},
   "source": [
    "# Chapter 19 - Constructions\n",
    "\n",
    "Aside from inspiring woodworkers to use only compass and straightedge on their next project, this chapter is interesting in that one can prove, algebraically, exactly which constructions are and are not possible with these tools.  A good thing to know before setting sail.\n",
    "\n",
    "TODO: Finish the thought, please."
   ]
  }
 ],
 "metadata": {
  "kernelspec": {
   "display_name": "Python 3",
   "language": "python",
   "name": "python3"
  },
  "language_info": {
   "codemirror_mode": {
    "name": "ipython",
    "version": 3
   },
   "file_extension": ".py",
   "mimetype": "text/x-python",
   "name": "python",
   "nbconvert_exporter": "python",
   "pygments_lexer": "ipython3",
   "version": "3.6.5"
  }
 },
 "nbformat": 4,
 "nbformat_minor": 2
}
