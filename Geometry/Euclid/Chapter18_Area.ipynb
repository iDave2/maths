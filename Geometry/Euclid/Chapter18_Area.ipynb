{
 "cells": [
  {
   "cell_type": "markdown",
   "metadata": {},
   "source": [
    "$\\def\\Frac#1/#2{{^{#1}/_{#2}}}$\n",
    "\n",
    "# Chapter 18 - Area\n",
    "\n",
    "As with [the second definition of parallel lines](Chapter08_ParallelPerpendicular.ipynb#Chapter-8---Parallel-and-Perpendicular-Lines), this one seems misplaced.  Area of a rectangle may have been known to Neanderthals and drawing a diagonal across its vertices leads naturally to a *theorem*, rather than a *definition* about the area of right triangles.\n",
    "\n",
    "## Definition - Area of Right Triangle\n",
    "\n",
    "> In any right triangle with *legs* of length $h$ and $b$, the *area* $A$ is given by $A = \\Frac1/2 bh.$\n",
    "\n",
    "### Theorem 18-3 - Area of any Triangle\n",
    "\n",
    "> The area $A$ of any triangle with base $b$ and altitude $h$ to that base is $A = \\Frac1/2 bh.$\n",
    "\n",
    "### Theorem 18-6 - Area of Regular Polygon\n",
    "\n",
    "> The area of a regular polygon of $n$ sides with apothem length $h$ and side length $b$ is $A = n(\\Frac1/2 bh).$\n",
    "\n",
    "## Definition - Perimeter of a Polygon\n",
    "\n",
    "> The **perimeter of a polygon** is the sum of the measures of the sides of the polygon.\n",
    "\n",
    "Authors then introduce notion of *limit* as the number of sides of inscribed and circumscribed polygons squeeze around an enclosed circle, they sketch a proof that the ratio of circumference to diameter is the same for any circle, a ratio that became a famous number,\n",
    "\n",
    "## Definition - Pi\n",
    "\n",
    "> The unique ratio of circumference to diameter for any circle is called \"pi,\" represented by the symbol $\\pi$.\n",
    "\n",
    "Again, [the history](https://en.wikipedia.org/wiki/Pi#Polygon_approximation_era) is fascinating."
   ]
  }
 ],
 "metadata": {
  "kernelspec": {
   "display_name": "Python 3",
   "language": "python",
   "name": "python3"
  },
  "language_info": {
   "codemirror_mode": {
    "name": "ipython",
    "version": 3
   },
   "file_extension": ".py",
   "mimetype": "text/x-python",
   "name": "python",
   "nbconvert_exporter": "python",
   "pygments_lexer": "ipython3",
   "version": "3.6.5"
  }
 },
 "nbformat": 4,
 "nbformat_minor": 2
}
