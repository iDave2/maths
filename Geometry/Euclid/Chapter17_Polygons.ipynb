{
 "cells": [
  {
   "cell_type": "markdown",
   "metadata": {},
   "source": [
    "$\\def\\Degrees{^{\\tt o}}$\n",
    "\n",
    "# Chapter 17 - Polygons\n",
    "\n",
    "This chapter introduces all the standard vocabulary of polygons:  convex, concave, quadrilaterals, diagonals, inscribed in or circumscribed by circles, trapezoids, parallelograms, rhombi, rhombuses?, and there is also [a flat fish called rhombus](https://en.wiktionary.org/wiki/rhombus#/media/File:Scophthalmus_rhombus_Rab_04.JPG) but you can barely see it.\n",
    "\n",
    "Two theorems stand out; the remainder are not repeated here.\n",
    "\n",
    "### Theorem 17-15 - Sum of Interior Angles\n",
    "\n",
    "> For a polygon of $n$ sides, the sum of the measures of the angles is $(n-2) \\times 180\\Degrees.$\n",
    "\n",
    "### Theorem 17-16 - Sum of Exterior Angles\n",
    "\n",
    "> The sum of the measures of the $2n$ exterior angles of a polygon of $n$ sides is $720\\Degrees.$\n",
    "\n",
    "A little more jargon is used in the next chapter.\n",
    "\n",
    "## Definition - Regular Polygon\n",
    "\n",
    "> A **regular polygon** is a polygon which has its sides congruent and its interior angles congruent.\n",
    "\n",
    "In other words, it is symmetrical and neatly accomodates an inscribed circle tangent to each side.\n",
    "\n",
    "## Definition - Apothem\n",
    "\n",
    "> The **apothem** (plural *apothems*, not apothi, and there is no fish this time) of a regular polygon is the radius of the inscribed circle.\n",
    "\n",
    "These radii touch the midpoint of each side forming little triangles around the center and making it easy to calculate polygon area."
   ]
  }
 ],
 "metadata": {
  "kernelspec": {
   "display_name": "Python 3",
   "language": "python",
   "name": "python3"
  },
  "language_info": {
   "codemirror_mode": {
    "name": "ipython",
    "version": 3
   },
   "file_extension": ".py",
   "mimetype": "text/x-python",
   "name": "python",
   "nbconvert_exporter": "python",
   "pygments_lexer": "ipython3",
   "version": "3.6.5"
  }
 },
 "nbformat": 4,
 "nbformat_minor": 2
}
