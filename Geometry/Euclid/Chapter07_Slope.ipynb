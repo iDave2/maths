{
 "cells": [
  {
   "cell_type": "markdown",
   "metadata": {},
   "source": [
    "# Chapter 7 - Slope\n",
    "\n",
    "## Definition - Slope\n",
    "\n",
    "> Given two points $P = (x_1, y_1)$ and $Q = (x_2, y_2)$ on a line, the **slope** of the line is defined as\n",
    ">\n",
    "> $$\\cases{ (y_2-y_1)\\,/\\,(x_2-x_1)       & if $x_1 \\ne x_2$; \\cr\n",
    "          {\\rm undefined\\;(no\\;slope)}  & if $x_1 = x_2$.   \\cr}$$\n",
    "\n",
    "When $x_1 = x_2$, the slope is *undefined* or *infinite*.  In this textbook, a vertical line is said to have **no slope**.\n",
    "\n",
    "### Theorem 7-1\n",
    "\n",
    "> In computing slopes (and in general), $${y_2-y_1\\over x_2-x_1} = {y_1-y_2\\over x_1-x_2}$$\n",
    "\n",
    "### Theorem 7-2\n",
    "\n",
    "> The slope of a line given by $Ax + By + C = 0$, when $B\\ne 0$, is $-A/B$.\n",
    "\n",
    "### Theorem 7-3\n",
    "\n",
    "> The slope of a line is constant.\n",
    "\n",
    "## Definition - X- & Y-Intercept\n",
    "\n",
    "> The **x-intercept** of a line (or any locus) is the abscissa of any point where that locus crosses the X axis.  Similarly, the **y-intercept** of a line is the ordinate of any point where the line crosses the Y axis.\n",
    "\n",
    "## Definition - Conventions m, a, b\n",
    "\n",
    "> Unless stated otherwise, the slope of a line will be indicated by the letter '$m$', its x-intercept by '$a$', and its y-intercept by the letter '$b$'.\n",
    "\n",
    "### Theorem 7-4\n",
    "\n",
    "> Through a given point there is exactly one line with a given slope and exactly one line with no slope.\n",
    "\n",
    "The chapter closes with a presentation of alternate representations of lines.  Different problem contexts determine which representation works best.\n",
    "\n",
    "## Definition - Alternate Propositional Forms for Lines\n",
    "\n",
    "> Let $L = \\bigl\\{(x,y)\\bigm|Ax + By + C = 0\\bigr\\}$ be a nonvertical line in \n",
    "[general form](Chapter06_LociAndFunctions.ipynb) with slope, x-intercept, and y-intercept given by,\n",
    "> $$\\cases{ m = -A/B & slope; \\cr\n",
    "          a = -C/A & x-intercept; \\cr\n",
    "          b = -C/B & y-intercept, \\cr}$$\n",
    ">\n",
    "> and let $(x_1, y_1)$ be any point on $L$.  Then $L$ may be written in **point-slope form** as,\n",
    ">\n",
    "> $$ y-y_1 = m(x-x_1), $$\n",
    ">\n",
    "> in **slope-intercept form** as,\n",
    ">\n",
    "> $$ y = mx + b, $$\n",
    ">\n",
    "> or in **two-intercept form** as,\n",
    ">\n",
    "> $$ {x\\over a} + {y\\over b} = 1. $$\n"
   ]
  }
 ],
 "metadata": {
  "kernelspec": {
   "display_name": "Python 3",
   "language": "python",
   "name": "python3"
  },
  "language_info": {
   "codemirror_mode": {
    "name": "ipython",
    "version": 3
   },
   "file_extension": ".py",
   "mimetype": "text/x-python",
   "name": "python",
   "nbconvert_exporter": "python",
   "pygments_lexer": "ipython3",
   "version": "3.6.5"
  }
 },
 "nbformat": 4,
 "nbformat_minor": 2
}
