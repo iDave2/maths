{
 "cells": [
  {
   "cell_type": "markdown",
   "metadata": {},
   "source": [
    "# Chapter 4 - Logic\n",
    "This chapter reviews logic, the method of correct reasoning used throughout mathematics and the sciences.  Key terms and concepts are listed here for review.\n",
    "\n",
    "**Syllogism**:  A kind of logical argument that applies deductive reasoning to arrive at a conclusion based on two or more propositions that are asserted or assumed to be true.\n",
    "\n",
    "**Propositional form**:  A sentence that contains a variable and becomes a proposition when a meaningful value is substituted for the variable.  For example, given the propositional form $p(x): x^2 \\ge 0$, we can write propositions like $\\forall x, x^2 \\ge 0$ more simply as $\\forall x, p(x)$.\n",
    "\n",
    "**Universal quantifier**:  \"$\\forall x$\" means \"for all x.\"\n",
    "\n",
    "**Existential quantifier**:  \"$\\exists x$\" means \"there exists $x$\" so the proposition \"$\\exists x, p(x)$\" or \"$\\exists x: p(x)$\" means \"there is an $x$ such that $p(x)$ is true.\"\n",
    "\n",
    "**Conjunction**:  A proposition like \"$p \\wedge q$,\" read \"$p$ and $q$,\" which is true if and only if both $p$ and $q$ are true.\n",
    "\n",
    "**Disjunction**:  A proposition like \"$p \\vee q$,\" read \"$p$ or $q$,\" which is true if either $p$ or $q$ or both are true and is false otherwise.\n",
    "\n",
    "**Conditionals**:  Statements of the form \"If $H$, then $C$,\" where $H$ represents an hypothesis and $C$ a conclusion, are called **conditionals**, are written as \"$H \\Rightarrow C$\" and often read more briefly as \"$H$ implies $C$\".  Given any conditional statement $p \\Rightarrow q$, the following terms describe its variations:\n",
    "\n",
    "* **Converse**: $q \\Rightarrow p$;\n",
    "* **Inverse**:  $\\neg p \\Rightarrow \\neg q$ where operator \"$\\neg$\" means \"not\";\n",
    "* **Contrapositive**:  $\\neg q \\Rightarrow \\neg p$.\n",
    "\n",
    "**Biconditionals**:  A statement of the form \"$p$ if and only if $q$\" where $p$ and $q$ are propositions is called a *biconditional* statement and is written as $p \\Leftrightarrow q$.  The expression \"if and only if\" is often abbreviated as \"iff\" when writing.\n",
    "\n",
    "**Logical equivalence**:  Statements $p$ and $q$ are *logically equivalent*, written $p \\equiv q$, if they have the same truth tables.  (Truth tables are not covered here.)\n",
    "\n",
    "**Theorem**:  A *theorem* is a provable proposition; a statement that has been proven on the basis of previously established statements, such as other theorems, and generally accepted statements, such as axioms; a *logical consequence* of the axioms.\n",
    "\n",
    "**Corollary**:  A *corollary* is a theorem connected by a short proof to an existing theorem; it is a statement that *follows readily* from a previous statement.  This usage is intrinsically subjective.\n",
    "\n",
    "**Rule of Detachment** or **Fundamental Rule of Inference**:  If $p \\Rightarrow q$ is true and if $p$ is true then $q$ *must* be true.  This may be expressed as a syllogism:\n",
    "\n",
    "* $p \\Rightarrow q$\n",
    "* $p$\n",
    "* $\\therefore q$\n",
    "\n",
    "The symbol \"$\\therefore$\" means *therefore*.\n",
    "\n",
    "***Reductio ad absurdum***: Latin for \"reduction to absurdity,\" this form of argument attempts to disprove a statement by showing it inevitably leads to a ridiculous, absurd, or impractical conclusion.  When a proposition $p$ is dichotomous (i.e., either $p$ is true or $p$ is false, no middle ground), one may take an *indirect* approach by assuming $\\neg p$, showing that $\\neg p$ leads to a logical contradiction of known facts, at which point $p$ must be true.  This is often easier than proving $p$ directly.\n"
   ]
  }
 ],
 "metadata": {
  "kernelspec": {
   "display_name": "Python 3",
   "language": "python",
   "name": "python3"
  },
  "language_info": {
   "codemirror_mode": {
    "name": "ipython",
    "version": 3
   },
   "file_extension": ".py",
   "mimetype": "text/x-python",
   "name": "python",
   "nbconvert_exporter": "python",
   "pygments_lexer": "ipython3",
   "version": "3.6.5"
  }
 },
 "nbformat": 4,
 "nbformat_minor": 2
}
