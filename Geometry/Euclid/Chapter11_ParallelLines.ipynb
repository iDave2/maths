{
 "cells": [
  {
   "cell_type": "markdown",
   "metadata": {},
   "source": [
    "# Chapter 11 - Parallel Lines\n",
    "\n",
    "$\\def\\Degrees{^{\\tt o}}$\n",
    "\n",
    "## Postulate 8 - Congruent Angles\n",
    "\n",
    "> Given two angles of measure less than $180\\Degrees$, if the corresponding sides of the angles have equal slopes or if one pair has no slope and the other pair has equal slopes, then the two angles are congruent.\n",
    "\n",
    "## Definition - Transversal\n",
    "\n",
    "> Given two distinct lines $L_1$ and $L_2$, any line $L_3$ which intersects $L_1$ at point $A$ and intersects $L_2$ at point $B$, where $A$ and $B$ are distinct points, is called a **transversal**.\n",
    "\n",
    "### Program - Alternate Interior and Corresponding Angles\n",
    "\n",
    "Draw a diagram to illustrate subsequent definitions."
   ]
  },
  {
   "cell_type": "code",
   "execution_count": 3,
   "metadata": {},
   "outputs": [
    {
     "data": {
      "image/png": "[encoded data removed]",
      "text/plain": [
       "<Figure size 432x288 with 1 Axes>"
      ]
     },
     "metadata": {},
     "output_type": "display_data"
    }
   ],
   "source": [
    "%matplotlib inline\n",
    "import numpy as np\n",
    "import matplotlib.pyplot as plt\n",
    "\n",
    "#- Draw a transversal.\n",
    "lines = np.array([[[-5, 7], [5, 3]], [[-5, 0], [5, 0]], [[-3, -2], [1, 8]]])\n",
    "for line in lines: plt.plot(line[:,0], line[:,1])\n",
    "\n",
    "#- Annotate it.\n",
    "plt.text(4.5, 3.8, 'L1')\n",
    "plt.text(4.5, -1, 'L2')\n",
    "plt.text(1.25, 7.5, 'L3')\n",
    "dots = np.array([[-3, 6.2], [-.17, 5.07], [-2.2, 0], [2, 0]])\n",
    "plt.plot(dots[:,0], dots[:,1], 'ro')\n",
    "plt.text(-3.3, 5.4, 'A')\n",
    "plt.text(-.8, 4.6, 'B')\n",
    "plt.text(.2, 5.2, \"B'\")\n",
    "plt.text(-1.7, .4, 'C')\n",
    "plt.text(1.9, .4, 'D')\n",
    "\n",
    "#- Show it.\n",
    "#plt.grid(True)\n",
    "plt.axis('off')\n",
    "plt.show()"
   ]
  },
  {
   "cell_type": "markdown",
   "metadata": {},
   "source": [
    "## Definition - Alternate Interior Angles\n",
    "\n",
    "> Referring to above diagram, consider two distinct lines $L_1$ and $L_2$ intersected by a transversal $L_3$ that intersects $L_1$ at point $B$ and $L_2$ at point $C$.  If $A$ is another point on $L_1$ and $D$ is another point on $L_2$ such that $A$ and $D$ are on opposite sides of $L_3$, then $\\angle ABC$ and $\\angle BCD$ are a pair of **alternate interior angles**.\n",
    "\n",
    "## Definition - Corresponding Angles\n",
    "\n",
    "> In the same diagram, if $\\angle C$ and $\\angle B$ are alternate interior angles and $\\angle B$ and $\\angle B'$ are vertical angles, then $\\angle C$ and $\\angle B'$ are called **corresponding angles**.\n",
    "\n",
    "This term is overloaded in Chapter 13 where similar triangles have corresponding sides and corresponding angles.\n",
    "\n",
    "### Theorem 11-1\n",
    "\n",
    "> Given two lines cut by a transversal, the alternate interior angles are congruent if and only if the lines are parallel.\n",
    "\n",
    "### Theorem 11-2\n",
    "\n",
    "> Given two lines cut by a transversal, the corresponding angles are congruent if and only if the lines are parallel.\n",
    "\n",
    "### Theorem 11-3\n",
    "\n",
    ">  Given two lines cut by a transversal, the interior angles on the same side of the transversal are supplementary (i.e., add to $180\\Degrees$) if and only if the lines are parallel."
   ]
  },
  {
   "cell_type": "code",
   "execution_count": 2,
   "metadata": {},
   "outputs": [
    {
     "data": {
      "text/html": [
       "\n",
       "<style>\n",
       ".output_png {\n",
       "    display: table-cell;\n",
       "    text-align: center;\n",
       "    vertical-align: middle;\n",
       "}\n",
       "</style>\n"
      ],
      "text/plain": [
       "<IPython.core.display.HTML object>"
      ]
     },
     "execution_count": 2,
     "metadata": {},
     "output_type": "execute_result"
    }
   ],
   "source": [
    "#- For centering plots, this is borrowed from the lovely creation of\n",
    "#- Cameron Davidson-Pilon at https://stackoverflow.com/questions/18380168.\n",
    "from IPython.core.display import HTML\n",
    "HTML(\"\"\"\n",
    "<style>\n",
    ".output_png {\n",
    "    display: table-cell;\n",
    "    text-align: center;\n",
    "    vertical-align: middle;\n",
    "}\n",
    "</style>\n",
    "\"\"\")"
   ]
  }
 ],
 "metadata": {
  "kernelspec": {
   "display_name": "Python 3",
   "language": "python",
   "name": "python3"
  },
  "language_info": {
   "codemirror_mode": {
    "name": "ipython",
    "version": 3
   },
   "file_extension": ".py",
   "mimetype": "text/x-python",
   "name": "python",
   "nbconvert_exporter": "python",
   "pygments_lexer": "ipython3",
   "version": "3.6.5"
  }
 },
 "nbformat": 4,
 "nbformat_minor": 2
}
