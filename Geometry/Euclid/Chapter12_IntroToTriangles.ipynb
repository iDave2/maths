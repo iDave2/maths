{
 "cells": [
  {
   "cell_type": "markdown",
   "metadata": {},
   "source": [
    "# Chapter 12 - Introduction to Triangles\n",
    "\n",
    "$\\def\\Degrees{^{\\tt o}}$\n",
    "\n",
    "### Theorem 12-1 - Sum of Interior Measures\n",
    "\n",
    "> The sum of the measures of the interior angles of a triangle is $180\\Degrees$.\n",
    "\n",
    "### Corollary 12-1.1\n",
    "\n",
    "> If one angle of a triangle is a right angle, then each of the other angles is an acute angle.\n",
    "\n",
    "## Definition - Right Triangle\n",
    "\n",
    "> A **right triangle** is a triangle such that one of its angles is a right angle.\n",
    "\n",
    "### Corollary 12-1.2\n",
    "\n",
    "> The two acute angles of a right triangle are complementary.\n",
    "\n",
    "### Corollary 12-1.3\n",
    "\n",
    "> If two angles of one triangle are congruent to any two angles of a second triangle, then the third pair of angles are also congruent.\n",
    "\n",
    "### Corollary 12-1.4\n",
    "\n",
    "> A triangle has at most one obtuse angle.\n",
    "\n",
    "## Definition - Hypotenuse\n",
    "\n",
    "> The **hypotenuse** of a right triangle is the side with endpoints on the sides (not the vertex) of the right angle.\n",
    "\n",
    "## Definition - Leg\n",
    "\n",
    "> The **leg** of a right triangle is a side other than the hypotenuse.\n",
    "\n",
    "## Definition - Equilateral Triangle\n",
    "\n",
    "> An **equiangular triangle** is a triangle such that the measures of its three angles are equal.\n",
    "\n",
    "## Definition - Obtuse Triangle\n",
    "\n",
    "> An **obtuse triangle** is a triangle such that one of its angles is obtuse.\n",
    "\n",
    "## Definition - Acute Triangle\n",
    "\n",
    "> An **acute triangle** is a triangle such that each of its angles is an acute angle.\n",
    "\n",
    "### Program - Exterior Angles\n",
    "\n",
    "Insert a thousand words."
   ]
  },
  {
   "cell_type": "code",
   "execution_count": 3,
   "metadata": {},
   "outputs": [
    {
     "data": {
      "image/png": "[encoded data removed]",
      "text/plain": [
       "<Figure size 432x288 with 1 Axes>"
      ]
     },
     "metadata": {},
     "output_type": "display_data"
    }
   ],
   "source": [
    "%matplotlib inline\n",
    "import numpy as np\n",
    "import matplotlib.pyplot as plt\n",
    "\n",
    "#- Draw a triangle-ish (C A B D).\n",
    "points = np.array([[4, 0], [1, 3], [0, 0], [6, 0]], np.float)\n",
    "plt.plot(points[:,0], points[:,1])\n",
    "\n",
    "#- Draw dots.\n",
    "dots = points\n",
    "dots[3, 0] = 5.6\n",
    "plt.plot(dots[:,0], dots[:,1], 'ro')\n",
    "\n",
    "#- Annotate.\n",
    "fs = 14\n",
    "plt.text(1, 2.5, 'A', fontsize=fs)\n",
    "plt.text(0.3, 0.2, 'B', fontsize=fs)\n",
    "plt.text(4, 0.2, 'C', fontsize=fs)\n",
    "plt.text(5.5, 0.2, 'D', fontsize=fs)\n",
    "\n",
    "#- And display.\n",
    "#-plt.grid(True)\n",
    "plt.axis('off')\n",
    "plt.show()"
   ]
  },
  {
   "cell_type": "markdown",
   "metadata": {},
   "source": [
    "### Theorem 12-2 - Measure of Exterior Angle\n",
    "\n",
    "> The measure of an exterior angle of a triangle is equal to the sum of the measures of the two remote interior angles of the triangle.\n",
    "\n",
    "With reference to figure above, Theorem 12-2 states that\n",
    "\n",
    "$$ m\\angle DCA = m\\angle CAB + m\\angle CBA $$\n",
    "\n",
    "### Theorem 12-3 - Pythagorean Theorem\n",
    "\n",
    "> **Pythagorean theorem**:  In any right triangle, the sum of the squares of the lengths of the legs is equal to the square of the length of the hypotenuse.\n",
    "\n",
    "History is fascinating.  Pythagorus lived around the time of Guatama Buddha (500 B.C.E.), shared beliefs about reincarnation, was persecuted for it, and both Hindustan and Egyptian geometers had known of \"his\" theorem many years prior.\n",
    "\n",
    "## Definition - Side Opposite\n",
    "\n",
    "> A side of a triangle which contains points in the interior of an angle of the triangle is called the **side opposite** that angle.\n",
    "\n",
    "## Definition - Included Angle\n",
    "\n",
    "> An angle of a triangle is said to be **included** by the sides of the triangle which lie on the sides of the angle.\n",
    "\n",
    "## Definition - Included Side\n",
    "\n",
    "> A side of a triangle is said to be **included** by the angles whose vertices are the end points of the segment.\n",
    "\n",
    "### Theorem 12-4 - Converse of Pythagorean Theorem\n",
    "\n",
    "> (Converse of Pythagorean theorem.)  If the sum of the squares of the lengths of two sides of a triangle is equal to the square of the length of the third side, then the triangle is a right triangle with its right angle opposite its longest side.\n",
    "\n",
    "Ordered triples such as $(3, 4, 5)$ or $(5, 12, 13)$ are called Pythagorean triples and generators are out there, somewhere."
   ]
  },
  {
   "cell_type": "code",
   "execution_count": 2,
   "metadata": {},
   "outputs": [
    {
     "data": {
      "text/html": [
       "\n",
       "<style>\n",
       ".output_png {\n",
       "    display: table-cell;\n",
       "    text-align: center;\n",
       "    vertical-align: middle;\n",
       "}\n",
       "</style>\n"
      ],
      "text/plain": [
       "<IPython.core.display.HTML object>"
      ]
     },
     "execution_count": 2,
     "metadata": {},
     "output_type": "execute_result"
    }
   ],
   "source": [
    "#- For centering plots, this is borrowed from the lovely creation of\n",
    "#- Cameron Davidson-Pilon at https://stackoverflow.com/questions/18380168.\n",
    "from IPython.core.display import HTML\n",
    "HTML(\"\"\"\n",
    "<style>\n",
    ".output_png {\n",
    "    display: table-cell;\n",
    "    text-align: center;\n",
    "    vertical-align: middle;\n",
    "}\n",
    "</style>\n",
    "\"\"\")"
   ]
  }
 ],
 "metadata": {
  "kernelspec": {
   "display_name": "Python 3",
   "language": "python",
   "name": "python3"
  },
  "language_info": {
   "codemirror_mode": {
    "name": "ipython",
    "version": 3
   },
   "file_extension": ".py",
   "mimetype": "text/x-python",
   "name": "python",
   "nbconvert_exporter": "python",
   "pygments_lexer": "ipython3",
   "version": "3.6.5"
  }
 },
 "nbformat": 4,
 "nbformat_minor": 2
}
