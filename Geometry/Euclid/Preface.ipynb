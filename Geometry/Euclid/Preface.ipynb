{
 "cells": [
  {
   "cell_type": "markdown",
   "metadata": {},
   "source": [
    "$\\def\\Arc#1{\\buildrel\\frown\\over{#1}}$\n",
    "$\\def\\Between#1#2#3{#1\\!-\\!#2\\!-\\!#3}$\n",
    "$\\def\\Degrees{^{\\tt o}}$\n",
    "$\\def\\Frac#1/#2{{^{#1}/_{#2}}}$\n",
    "$\\def\\Line#1{\\buildrel\\longleftrightarrow\\over{#1}}$\n",
    "$\\def\\Ray#1{\\kern-.1em\\vec{\\kern.1em #1}}$\n",
    "$\\def\\Segment#1{\\overline{#1}}$\n",
    "\n",
    "# Preface\n",
    "\n",
    "This project began as a personal review of an old geometry textbook and ended up with a deeper dive into the amazing SciPy software.  Unless you are a beginning geometry student or someone who draws triangles for a living, it may have a high boringness level, like eight or nine.  The table of contents is helpful for finding or remembering things, there are a few matplotlib programs.\n",
    "\n",
    "[Jump to table of contents](Contents.ipynb).\n",
    "\n",
    "\n",
    "## Conventions\n",
    "\n",
    "To simplify command line searching, the following heading conventions are used:\n",
    "\n",
    "    # Chapter 11 - Parallel Lines\n",
    "    ## Axiom 2 - Segments and Lines\n",
    "    ## Postulate 8 - Congruent Angles\n",
    "    ## Definition - Transversal\n",
    "    ### Theorem 10-1\n",
    "    ### Corollary 10-1.1\n",
    "    #### Proof\n",
    "\n",
    "To avoid mixing in comments from python code, python comments at beginning of line can use '#-' or '#%' or any other second character besides hash '#' or space ' ',\n",
    "\n",
    "    #- This is a matplotlib python comment.\n",
    "\n",
    "Then searching is easier,\n",
    "\n",
    "    bash> egrep '\"#(#| )' Chapter* | grep Parallel\n",
    "\n",
    "To distinguish text of a definition or theorem from comments by the author, block quotes are used for indentation:\n",
    "\n",
    "    ### Theorem 10-2\n",
    "    \n",
    "    > Large triangles are especially pointy.\n",
    "    \n",
    "    That is an excellent theorem.\n",
    "\n",
    "\n",
    "## Notation\n",
    "\n",
    "Textbook notation is used whenever possible to ease comparison with this notebook.  Plain $\\rm\\TeX$ macros defined here use Pascal case (yes, [that's a thing](https://en.wikipedia.org/wiki/Camel_case)) to avoid most collisions.  Examples below may be copy/pasted as needed.\n",
    "\n",
    "    $\\def\\Arc#1{\\buildrel\\frown\\over{#1}}$\n",
    "\n",
    "If $\\angle ACB$ is a central angle and points $A$ and $B$ lie on the circle, then the **minor arc** $\\Arc{AB}$ is the union of $A$, $B$, and all points of the circle which lie in the interior of $\\angle ABC$.  The **major arc** $\\Arc{AB}$ is the union of $A$, $B$, and all points of the circle which lie in the exterior of $\\angle ABC$.  (See [Chapter 16](Chapter16_CirclesAndMeasures.ipynb#Definition---Arc).)\n",
    "\n",
    "    $\\def\\Between#1#2#3{#1\\!-\\!#2\\!-\\!#3}$\n",
    "\n",
    "This reduces space around binary '$-$' operator improving appearance of the book's \"between\" notation.  You get $\\Between A B C$ rather than $A-B-C$.\n",
    "\n",
    "    $\\def\\Degrees{^{\\tt o}}$\n",
    "\n",
    "Knuth's `\\circ` is too small for author's eye; this macro raises the temperature to $120\\Degrees$.\n",
    "\n",
    "    $\\def\\Frac#1/#2{{^{#1}/_{#2}}}$\n",
    "\n",
    "Can anything rational be said about $\\Frac1/2$?\n",
    "\n",
    "    $\\def\\Line#1{\\buildrel\\longleftrightarrow\\over{#1}}$\n",
    "\n",
    "Line $\\Line{AB}$ is parallel to line $\\Line{CD}$ but, if you love typing, go right ahead and spell it out.\n",
    "\n",
    "    $\\def\\Ray#1{\\kern-.1em\\vec{\\kern.1em #1}}$\n",
    "\n",
    "For some reason, MathJax `\\vec` looks awful with one symbol but works nominally with two or more.  The following display shows `$\\vec{A}$`, `$\\vec{AB}$`, `$\\Ray{A}$`, `$\\Ray{AB}$` in that order:\n",
    "\n",
    "$$ \\vec{A} \\qquad \\vec{AB} \\qquad \\Ray{A} \\qquad \\Ray{AB} $$\n",
    "\n",
    "    $\\def\\Segment#1{\\overline{#1}}$\n",
    "\n",
    "Segment $\\Segment{AB}$ has two endpoints, namely $A$ and $B$.  The *distance* from $A$ to $B$, the segment length, is written simply as $AB$.\n",
    "\n",
    "Negation syntax *~p* is changed to **$\\neg p$** (i.e., `$\\neg p$`).  The tilde symbol appears to be reserved for binary *similarity* operator (`\\sim`) in both old and new $\\rm\\TeX$ usage.\n",
    "\n",
    "And finally, images are centered with snippet from another author, copied below for easy retrieval.\n",
    "\n",
    "![alt text](triangle-01.png)\n"
   ]
  },
  {
   "cell_type": "code",
   "execution_count": 1,
   "metadata": {},
   "outputs": [
    {
     "data": {
      "text/html": [
       "\n",
       "<style>\n",
       ".output_png {\n",
       "    display: table-cell;\n",
       "    text-align: center;\n",
       "    vertical-align: middle;\n",
       "}\n",
       "</style>\n"
      ],
      "text/plain": [
       "<IPython.core.display.HTML object>"
      ]
     },
     "execution_count": 1,
     "metadata": {},
     "output_type": "execute_result"
    }
   ],
   "source": [
    "#- For centering plots, this is borrowed from the lovely creation of\n",
    "#- Cameron Davidson-Pilon at https://stackoverflow.com/questions/18380168.\n",
    "from IPython.core.display import HTML\n",
    "HTML(\"\"\"\n",
    "<style>\n",
    ".output_png {\n",
    "    display: table-cell;\n",
    "    text-align: center;\n",
    "    vertical-align: middle;\n",
    "}\n",
    "</style>\n",
    "\"\"\")"
   ]
  }
 ],
 "metadata": {
  "kernelspec": {
   "display_name": "Python 3",
   "language": "python",
   "name": "python3"
  },
  "language_info": {
   "codemirror_mode": {
    "name": "ipython",
    "version": 3
   },
   "file_extension": ".py",
   "mimetype": "text/x-python",
   "name": "python",
   "nbconvert_exporter": "python",
   "pygments_lexer": "ipython3",
   "version": "3.6.5"
  }
 },
 "nbformat": 4,
 "nbformat_minor": 2
}
