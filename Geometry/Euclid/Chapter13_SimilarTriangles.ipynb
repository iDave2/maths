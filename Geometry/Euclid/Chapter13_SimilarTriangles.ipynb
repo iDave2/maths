{
 "cells": [
  {
   "cell_type": "markdown",
   "metadata": {},
   "source": [
    "# Chapter 13 - Similar Triangles\n",
    "\n",
    "$\\def\\Line#1{\\buildrel\\longleftrightarrow\\over{#1}}$\n",
    "$\\def\\Segment#1{\\overline{#1}}$\n",
    "\n",
    "## Definition - Similar Triangles\n",
    "\n",
    "> Two triangles are **similar** if there is a positive real number $k$ such that the length of each side of one triangle is $k$ times the length of each corresponding side of the other triangle.  The constant $k$ is called the **ratio of similitude** and the symbol '$\\sim$' denotes similarity:  $\\triangle ABC \\sim \\triangle DEF$.\n",
    "\n",
    "### Theorem 13-1\n",
    "\n",
    "> If two triangles are each similar to a third triangle, then they are similar to each other.\n",
    "\n",
    "## Definition - Proportion\n",
    "\n",
    "> A **proportion** is a statement of equality between two ratios.\n",
    "\n",
    "That's a curious definition.  It appears to be the *mathematical* definition; others more loosely treat it as a synonym for the ratio itself.  Anyway, it follows that triangles are similar iff their corresponding sides are proportional.\n",
    "\n",
    "### Theorem 13-2\n",
    "\n",
    "> If two sides of one right triangle are proportional to the corresponding two sides of a second right triangle, then the triangles are similar.\n",
    "\n",
    "### Theorem 13-3\n",
    "\n",
    "> Two triangles are similar if and only if their corresponding angles are congruent.\n",
    "\n",
    "### Theorem 13-4\n",
    "\n",
    "> If two triangles have two angles of one congruent respectively to two angles of the other, then the triangles are similar.\n",
    "\n",
    "### Theorem 13-5\n",
    "\n",
    "> If an acute angle of one right triangle is congruent to the corresponding acute angle of a second right triangle, then the triangles are similar.\n",
    "\n",
    "So many little \"theorems\" when one can simply look, add angles, figure it out.  Theorem madness?\n",
    "\n",
    "## Definition - Altitude\n",
    "\n",
    "> A segment is an **altitude** of a triangle if\n",
    "\n",
    "1. One endpoint is a vertex of the triangle;\n",
    "2. The other endpoint is on the *line* containing the side opposite the vertex;\n",
    "3. The segment is perpendicular to the line containing the side opposite the vertex.\n",
    "\n",
    "### Theorem 13-6\n",
    "\n",
    "> Altitudes to a pair of corresponding sides in similar triangles are in the same ratio as the corresponding sides of the triangle.\n",
    "\n",
    "### Theorem 13-7\n",
    "\n",
    "> If two pairs of corresponding sides of two triangles are proportional and if the *included angles* are congruent, then the triangles are similar.\n",
    "\n",
    "### Theorem 13-8\n",
    "\n",
    "> The altitude to the hypotenuse of a right triangle forms two similar triangles, each similar to the original triangle.\n",
    "\n",
    "## Definition - Geometric Mean\n",
    "\n",
    "> If $b=c$ in the proportion \n",
    ">\n",
    "> $$ {a\\over b} = {c\\over d},$$\n",
    ">\n",
    "> then $b$ is called the **geometric mean** between $a$ and $d$.\n",
    "\n",
    "### Corollary 13-8.1\n",
    "\n",
    "> In any right triangle, the length of the altitude to the hypotenuse is the geometric mean between the length of the segments it determines on the hypotenuse.\n",
    "\n",
    "### Corollary 13-8.2\n",
    "\n",
    "> In any right triangle with an altitude to the hypotenuse, the length of each leg of the triangle is the geometric mean between the length of the entire hypotenuse and the length of the segment of the hypotenuse intersecting that leg.\n",
    "\n",
    "Got all that?  Just remember Theorem 13-8 and look at relationships for a given situation.\n",
    "\n",
    "### Theorem 13-9\n",
    "\n",
    "> A line segment whose endpoints are on two sides of a triangle and which is parallel to the third side divides these two sides proportionally.\n",
    "\n",
    "That is straightforward.  Its converse would make Theorem 13-10 trivial at best so let's do that first.\n",
    "\n",
    "### Program - Similar Triangles\n"
   ]
  },
  {
   "cell_type": "code",
   "execution_count": 2,
   "metadata": {},
   "outputs": [
    {
     "data": {
      "image/png": "[encoded data removed]",
      "text/plain": [
       "<Figure size 432x288 with 1 Axes>"
      ]
     },
     "metadata": {},
     "output_type": "display_data"
    }
   ],
   "source": [
    "%matplotlib inline\n",
    "import numpy as np\n",
    "import matplotlib.pyplot as plt\n",
    "\n",
    "#- Draw a triangle and transversal.\n",
    "A = [6, 5]; B = [0, 0]; C = [10, 0]; D = [3.6, 3]; E = [7.6, 3]\n",
    "\n",
    "points = np.array([A, B, C, D, E], np.float)\n",
    "segment = np.array([D, E], np.float)\n",
    "triangle = np.array([A, B, C, A], np.float)\n",
    "\n",
    "plt.plot(points[:,0], points[:,1], 'ro')\n",
    "plt.plot(segment[:,0], segment[:,1], 'g')\n",
    "plt.plot(triangle[:,0], triangle[:,1])\n",
    "\n",
    "fs = 16\n",
    "plt.text(5.8, 5.3, 'A', fontsize=fs)\n",
    "plt.text(-.8, -.2, 'B', fontsize=fs)\n",
    "plt.text(10.3, -.2, 'C', fontsize=fs)\n",
    "plt.text(2.7, 2.8, 'D', fontsize=fs)\n",
    "plt.text(8, 2.8, 'E', fontsize=fs)\n",
    "\n",
    "#- Jupyter runs show() by default?\n",
    "#-   Only if plt.isinteractive() == True.\n",
    "#-   And this is so on this machine.\n",
    "#-plt.grid(True)\n",
    "#-plt.axis([-1, 11, -1, 6])\n",
    "plt.axis('off')\n",
    "plt.show()"
   ]
  },
  {
   "cell_type": "markdown",
   "metadata": {},
   "source": [
    "### Theorem 13-9.1 [dek]\n",
    "\n",
    "> (Converse of Theorem 13-9):  A line segment with endpoints on two sides of a triangle that divides these two sides proportionally is parallel to the third side.\n",
    "\n",
    "Perhaps the abstraction in this text feels forced because we are not studying *non*-Euclidean geometry where notions of *betweenness* may be defined but have less \"obvious\" meaning from simple diagrams.  OK, \"by the book.\"\n",
    "\n",
    "#### Proof\n",
    "\n",
    "> 1. Consider triangle $\\triangle ABC$ with line segment $\\Segment{DE}$ whose endpoints touch side $\\Segment{AB}$ at point $D$ and side $\\Segment{AC}$ at point $E$.  (*Given*.)\n",
    "> 2. Segment $\\Segment{DE}$ divides sides proportionally (*given*, [Definition of proportion](#Definition---Proportion)) so that\n",
    ">\n",
    "> $$ {\\;\\;\\Segment{AD}\\;\\;\\over\\Segment{AB}} = {\\;\\;\\Segment{AE}\\;\\;\\over\\Segment{AC}}. $$\n",
    ">\n",
    "> 3. Triangle $\\triangle ADE$ is similar to $\\triangle ABC$.  ([Theorem 13-7](#Theorem-13-7).)\n",
    "> 4. Corresponding angles of triangles $\\triangle ADE$ and $\\triangle ABC$ are congruent.  ([Theorem 13-3](#Theorem-13-3).)\n",
    "> 5. Considering $\\Line{AB}$ as transversal where segments $\\Segment{AB}$, $\\Segment{DE}$, and $\\Segment{BC}$ are extended to lines ([Axiom 2 (inspirational only)](Chapter02_HistoricalGeometry.ipynb#Axiom-2---Segments-and-Lines), [Definition of segment](Chapter09_Betweenness.ipynb#Definition---Line-Segment), [Definition of polygon as segments](Chapter10_Angles.ipynb#Definition---Polygon), [Definition of triangle as polygon](Chapter10_Angles.ipynb#Definition---Triangle)), congruence of corresponding angles $\\angle ABC$ and $\\angle ADE$ implies $\\Segment{DE} \\Vert \\Segment{BC}.$  ([Theorem 11-2](Chapter11_ParallelLines.ipynb#Theorem-11-2).)\n",
    "\n",
    "Now *that* is anal.  It is also a good exercise.  Repeat.\n",
    "\n",
    "### Theorem 13-10\n",
    "\n",
    "> The line segment joining the midpoints of two sides of a triangle is parallel to the third side and its length is equal to one-half the length of the third side."
   ]
  },
  {
   "cell_type": "code",
   "execution_count": 3,
   "metadata": {},
   "outputs": [
    {
     "data": {
      "text/html": [
       "\n",
       "<style>\n",
       ".output_png {\n",
       "    display: table-cell;\n",
       "    text-align: center;\n",
       "    vertical-align: middle;\n",
       "}\n",
       "</style>\n"
      ],
      "text/plain": [
       "<IPython.core.display.HTML object>"
      ]
     },
     "execution_count": 3,
     "metadata": {},
     "output_type": "execute_result"
    }
   ],
   "source": [
    "#- For centering plots, this is borrowed from the lovely creation of\n",
    "#- Cameron Davidson-Pilon at https://stackoverflow.com/questions/18380168.\n",
    "from IPython.core.display import HTML\n",
    "HTML(\"\"\"\n",
    "<style>\n",
    ".output_png {\n",
    "    display: table-cell;\n",
    "    text-align: center;\n",
    "    vertical-align: middle;\n",
    "}\n",
    "</style>\n",
    "\"\"\")"
   ]
  }
 ],
 "metadata": {
  "kernelspec": {
   "display_name": "Python 3",
   "language": "python",
   "name": "python3"
  },
  "language_info": {
   "codemirror_mode": {
    "name": "ipython",
    "version": 3
   },
   "file_extension": ".py",
   "mimetype": "text/x-python",
   "name": "python",
   "nbconvert_exporter": "python",
   "pygments_lexer": "ipython3",
   "version": "3.6.5"
  }
 },
 "nbformat": 4,
 "nbformat_minor": 2
}
