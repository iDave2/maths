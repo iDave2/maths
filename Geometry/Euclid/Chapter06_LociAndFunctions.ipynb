{
 "cells": [
  {
   "cell_type": "markdown",
   "metadata": {},
   "source": [
    "# Chapter 6 - Loci, Functions, and Straight Lines\n",
    "\n",
    "Textbook uses the term *locus* (plural *loci*) as a synonym for *line*.  This may be historical or intended to emphasize the concept of lines as sets of points satisfying some relation like\n",
    "\n",
    "$$L = \\bigl\\{ (x,y) \\bigm| Ax + By + C = 0 \\bigr\\}$$\n",
    "\n",
    "## Definition - Linear Equation, General Form\n",
    "\n",
    "> An equation which can be written in the form $Ax + By + C = 0$ is called a **linear equation**.  The form $Ax + By + C = 0$ is called the **general form** of an equation of a line.\n",
    "\n",
    "Textbook also uses the term *relation* as a synonym for *line* but do not clarify whether they mean the relation between $x$ and $y$ in the set of coordinates $\\{(x,y)\\}$ constituting a line, or the *such that* relationship between coordinates and their associated propositional form as shown in the set notation above.\n",
    "\n",
    "## Definition - Function\n",
    "\n",
    "> A **function** may be defined as a relation \n",
    "$\\bigl\\{(x,y)\\bigm|\\forall x\\hbox{, there is a unique $y$}\\bigr\\}$.  (But don't do that.)\n",
    "\n",
    "## Definition - Set Intersection, Empty Set\n",
    "\n",
    "> Two sets $L_1$ and $L_2$ **intersect** iff they contain at least one common element.  If the loci contain no points in common, their intersection is **empty**; that is, $L_1 \\cap L_2 = \\emptyset$.\n",
    "\n",
    "## Definition - Distinct and Coincident Sets\n",
    "\n",
    "> Two loci $L_1$ and $L_2$ are **distinct** if and only if there is at least one point in one locus which is not in the other.  When $L_1 \\cup L_2 = L_1 \\cap L_2$, it follows that $L_1 = L_2$ and the two loci are said to **coincide**.\n",
    "\n",
    "## Definition - Oblique Line\n",
    "\n",
    "> Lines that are neither vertical nor horizontal are called **oblique**.\n",
    "\n",
    "### Theorem 6-1\n",
    "\n",
    "> If two lines have at most one point in common, then they are distinct.\n",
    "\n",
    "Textbook authors use the reason \"A line contains infinitely many points\" to justify statements in their proof of this theorem but, technically speaking, their reason itself requires proof.  Such proof would follow easily from [Postulate 1](Chapter05_CoordinateSystems.ipynb#Postulate-1) if that had been extended to two dimensions.  So with both rigor and hand-waving, the take-away is that there are three possibilities:\n",
    "\n",
    "$$ \\cases{ L_1 \\cap L_2 = \\hbox{single point}      & lines are distinct              \\cr\n",
    "           L_1 \\cap L_2 = \\emptyset                & lines are distinct and parallel \\cr\n",
    "           L_1 \\cap L_2 = L_1 \\cup L_2 = L_1 = L_2 & lines are coincident            \\cr}$$\n",
    "\n",
    "Chapter ends with brief presentation of *systems of linear equations* -- two equations in two unknowns in this case -- so that one may determine where two lines intersect. "
   ]
  }
 ],
 "metadata": {
  "kernelspec": {
   "display_name": "Python 3",
   "language": "python",
   "name": "python3"
  },
  "language_info": {
   "codemirror_mode": {
    "name": "ipython",
    "version": 3
   },
   "file_extension": ".py",
   "mimetype": "text/x-python",
   "name": "python",
   "nbconvert_exporter": "python",
   "pygments_lexer": "ipython3",
   "version": "3.6.5"
  }
 },
 "nbformat": 4,
 "nbformat_minor": 2
}
