{
 "cells": [
  {
   "cell_type": "markdown",
   "metadata": {},
   "source": [
    "# Chapter 2 - Historical Geometry\n",
    "\n",
    "Imagine life in Euclid's Greece, circa 300 B.C.E.  People noticed that a value for what we now call $\\sqrt 2$ could not be exactly determined but real numbers were not formally described until the 17th century when René Descartes finally located his brain.  Hell, we did not even have a zero until the Middle Ages. While one is often tempted to throw down a coordinate system and solve problems analytically, even though the analytic approach is more powerful, it is nevertheless especially satisfying when a creative solution using only core postulates and theorems can be found.  One somehow feels more like, well, like a *geometer* and this author's evident bias even has a name, [Synthetic geometry](https://en.wikipedia.org/wiki/Synthetic_geometry), though *Organic*, as in *organic vegetables*, seems more appropriate.\n",
    "\n",
    "While the book presents Euclid's axioms in a formal mathematical language of intuitive but undefined concepts (points, lines, circles), [Heath's more accurate translation](https://en.wikipedia.org/wiki/Euclidean_geometry#Axioms) sounds like Euclid saying \"Hey, look what I can do with my new straightedge and compass!\"  With his axioms, Euclid appears to tell us *what he can do* -- hands-on construction -- while his subsequent \"common notions,\" also enumerated in *The Elements*, are more in line with mathematical formalism.  Both translations are included here for reference.\n",
    "\n",
    "## Axiom 1 - Two Points and One Line\n",
    "\n",
    "> * \\[Heath\\] To draw a straight line from any point to any point.\n",
    "> * \\[Book\\] For every two points, there is exactly one line containing them.\n",
    "\n",
    "\n",
    "## Axiom 2 - Segments and Lines\n",
    "\n",
    "> * \\[Heath\\] To produce \\[extend\\] a finite straight line continuously in a straight line.\n",
    "> * \\[Book\\] A straight line may be extended indefinitely.\n",
    "\n",
    "## Axiom 3 - Circles\n",
    "\n",
    "> * \\[Heath\\] To describe a circle with any centre and distance \\[radius\\].\n",
    "> * \\[Book\\] A circle can be constructed at any given point with any given radius.\n",
    "\n",
    "## Axiom 4 - Right Angles\n",
    "\n",
    "> * \\[Heath\\] That all right angles are equal to one another.\n",
    "> * \\[Book\\] All right angles are equal.\n",
    "\n",
    "## Axiom 5 - Parallel Postulate\n",
    "\n",
    "> * \\[Heath\\] That, if a straight line falling on two straight lines make the interior angles on the same side less than two right angles, the two straight lines, if produced indefinitely, meet on that side on which the angles are less than two right angles.\n",
    "> * \\[Book\\] Through a given point not on a given line, there is one and only one line parallel to the given line.\n",
    "\n",
    "Note that the last axiom is important in *Flat Earth Theory*.  Euclid believed it could be proved from the previous axioms.  Later non-Euclidean geometries showed that it may not hold at all.  It is interesting, or maybe not, to compare Euclidean geometry with Newtonian mechanics in terms of domains of validity:\n",
    "\n",
    "* Short distance: Euclidean geometry.\n",
    "* Long distance: Non-Euclidean geometries.\n",
    "- \n",
    "* Low velocity: Newtonian mechanics.\n",
    "* High velocity: Special relativity.\n",
    "\n",
    "History is fascinating.  The Greeks sought to discover so-called Truth, not to apply mathematics, and Euclid's [*Elements*](https://en.wikipedia.org/wiki/Euclid%27s_Elements#/media/File:Euclid%27s_Elements,_1482.jpg) include language like \"The whole is greater than the parts\" which, today at least, sounds more like a philosopher than a mathematician."
   ]
  }
 ],
 "metadata": {
  "kernelspec": {
   "display_name": "Python 3",
   "language": "python",
   "name": "python3"
  },
  "language_info": {
   "codemirror_mode": {
    "name": "ipython",
    "version": 3
   },
   "file_extension": ".py",
   "mimetype": "text/x-python",
   "name": "python",
   "nbconvert_exporter": "python",
   "pygments_lexer": "ipython3",
   "version": "3.6.5"
  }
 },
 "nbformat": 4,
 "nbformat_minor": 2
}
